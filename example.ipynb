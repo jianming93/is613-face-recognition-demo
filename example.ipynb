{
 "cells": [
  {
   "cell_type": "code",
   "execution_count": 16,
   "metadata": {},
   "outputs": [],
   "source": [
    "import os\n",
    "import matplotlib.pyplot as plt\n",
    "import cv2\n",
    "import face_recognition"
   ]
  },
  {
   "cell_type": "code",
   "execution_count": 2,
   "metadata": {},
   "outputs": [],
   "source": [
    "directory = 'example'"
   ]
  },
  {
   "cell_type": "code",
   "execution_count": 3,
   "metadata": {},
   "outputs": [],
   "source": [
    "actual = []\n",
    "samples = []\n",
    "image_names = []\n",
    "for i in os.listdir(directory):\n",
    "    image_path = os.path.join(directory, i)\n",
    "    image = cv2.imread(image_path)\n",
    "    image = cv2.cvtColor(image, cv2.COLOR_BGR2RGB)\n",
    "    detected_locations = face_recognition.face_locations(image)\n",
    "    detected_encodings = face_recognition.face_encodings(image, detected_locations)\n",
    "    if i == 'actual.JPG':\n",
    "        actual.append(detected_encodings)\n",
    "    else:\n",
    "        samples.append(detected_encodings)\n",
    "        image_names.append(i)"
   ]
  },
  {
   "cell_type": "code",
   "execution_count": 4,
   "metadata": {},
   "outputs": [
    {
     "name": "stdout",
     "output_type": "stream",
     "text": [
      "1.JPG False\n",
      "10.JPG False\n",
      "2.JPG False\n",
      "3.JPG False\n",
      "4.JPG False\n",
      "5.JPG False\n",
      "6.JPG True\n",
      "7.JPG False\n",
      "8.JPG False\n",
      "9.JPG False\n"
     ]
    }
   ],
   "source": [
    "for i in range(len(samples)):\n",
    "    matches = face_recognition.compare_faces(known_face_encodings=actual[0],\n",
    "                                             face_encoding_to_check=samples[i][0],\n",
    "                                             tolerance=0.5)\n",
    "    print(image_names[i], matches[0])"
   ]
  },
  {
   "cell_type": "code",
   "execution_count": 9,
   "metadata": {},
   "outputs": [],
   "source": [
    "eye_model = cv2.CascadeClassifier('models/haarcascades/haarcascade_eye_tree_eyeglasses.xml')"
   ]
  },
  {
   "cell_type": "code",
   "execution_count": 115,
   "metadata": {},
   "outputs": [],
   "source": [
    "image_path = os.path.join(directory, '3.JPG')\n",
    "image = cv2.imread(image_path)\n",
    "detected_locations = face_recognition.face_locations(image)\n",
    "gray_frame = cv2.cvtColor(image, cv2.COLOR_RGB2GRAY)\n",
    "single_face_location = detected_locations[0]\n",
    "face_image = gray_frame[single_face_location[0]:single_face_location[2], single_face_location[3]: single_face_location[1]]\n",
    "eyes = eye_model.detectMultiScale(face_image, 1.1, 3)"
   ]
  },
  {
   "cell_type": "code",
   "execution_count": 116,
   "metadata": {
    "scrolled": true
   },
   "outputs": [
    {
     "data": {
      "text/plain": [
       "(98, 184, 253, 29)"
      ]
     },
     "execution_count": 116,
     "metadata": {},
     "output_type": "execute_result"
    }
   ],
   "source": [
    "single_face_location"
   ]
  },
  {
   "cell_type": "code",
   "execution_count": 117,
   "metadata": {},
   "outputs": [
    {
     "data": {
      "text/plain": [
       "(155, 155)"
      ]
     },
     "execution_count": 117,
     "metadata": {},
     "output_type": "execute_result"
    }
   ],
   "source": [
    "face_image.shape"
   ]
  },
  {
   "cell_type": "code",
   "execution_count": 118,
   "metadata": {
    "scrolled": true
   },
   "outputs": [
    {
     "data": {
      "text/plain": [
       "array([[[255, 255, 255],\n",
       "        [255, 255, 255],\n",
       "        [255, 255, 255],\n",
       "        ...,\n",
       "        [255, 255, 255],\n",
       "        [255, 255, 255],\n",
       "        [255, 255, 255]],\n",
       "\n",
       "       [[255, 255, 255],\n",
       "        [255, 255, 255],\n",
       "        [255, 255, 255],\n",
       "        ...,\n",
       "        [255, 255, 255],\n",
       "        [255, 255, 255],\n",
       "        [255, 255, 255]],\n",
       "\n",
       "       [[255, 255, 255],\n",
       "        [255, 255, 255],\n",
       "        [255, 255, 255],\n",
       "        ...,\n",
       "        [255, 255, 255],\n",
       "        [255, 255, 255],\n",
       "        [255, 255, 255]],\n",
       "\n",
       "       ...,\n",
       "\n",
       "       [[255, 255, 255],\n",
       "        [255, 255, 255],\n",
       "        [255, 255, 255],\n",
       "        ...,\n",
       "        [255, 255, 255],\n",
       "        [255, 255, 255],\n",
       "        [255, 255, 255]],\n",
       "\n",
       "       [[255, 255, 255],\n",
       "        [255, 255, 255],\n",
       "        [255, 255, 255],\n",
       "        ...,\n",
       "        [255, 255, 255],\n",
       "        [255, 255, 255],\n",
       "        [255, 255, 255]],\n",
       "\n",
       "       [[255, 255, 255],\n",
       "        [255, 255, 255],\n",
       "        [255, 255, 255],\n",
       "        ...,\n",
       "        [255, 255, 255],\n",
       "        [255, 255, 255],\n",
       "        [255, 255, 255]]], dtype=uint8)"
      ]
     },
     "execution_count": 118,
     "metadata": {},
     "output_type": "execute_result"
    }
   ],
   "source": [
    "eye_1 = eyes[0]\n",
    "eye_2 = eyes[1]\n",
    "# Centers must be (x, y) coordinates. note that eyes location are in (x, y, w, h) format instead\n",
    "eye_1_center_x = (eye_1[0] + eye_1[2]) / 2\n",
    "eye_1_center_y = (eye_1[1] + eye_1[3]) / 2\n",
    "eye_2_center_x = (eye_2[0] + eye_2[2]) / 2\n",
    "eye_2_center_y = (eye_2[1] + eye_2[3]) / 2\n",
    "# Must remember to rescale back to full small image frame\n",
    "eye_1_center = [int(eye_1_center_x + single_face_location[3]), int(eye_1_center_y + single_face_location[0])]\n",
    "eye_2_center = [int(eye_2_center_x + single_face_location[3]), int(eye_2_center_y + single_face_location[0])]\n",
    "# Scale back to original image size\n",
    "eye_1_center[0] = int(eye_1_center[0] // 1)\n",
    "eye_2_center[0] = int(eye_2_center[0] // 1)\n",
    "eye_1_center[1] = int(eye_1_center[1] // 1)\n",
    "eye_2_center[1] = int(eye_2_center[1] // 1)\n",
    "# Draw eyes\n",
    "cv2.circle(image, tuple(eye_1_center), 5, (0, 255, 0), 2)\n",
    "cv2.circle(image, tuple(eye_2_center), 5, (0, 255, 0), 2)"
   ]
  },
  {
   "cell_type": "code",
   "execution_count": 119,
   "metadata": {},
   "outputs": [],
   "source": [
    "eye_1 = eyes[0]\n",
    "eye_2 = eyes[1]\n",
    "# Centers must be (x, y) coordinates. note that eyes location are in (x, y, w, h) format instead\n",
    "eye_1_center_x = eye_1[0] + (eye_1[2] / 2) \n",
    "eye_1_center_y = eye_1[1] + (eye_1[3] / 2) \n",
    "\n",
    "eye_2_center_x = eye_2[0] + (eye_2[2] / 2)\n",
    "eye_2_center_y = eye_2[1] + (eye_2[3] / 2) "
   ]
  },
  {
   "cell_type": "code",
   "execution_count": 120,
   "metadata": {},
   "outputs": [
    {
     "data": {
      "text/plain": [
       "array([[ 76,  76,  79, ...,  83,  83,  84],\n",
       "       [ 79,  78,  80, ...,  83,  84,  84],\n",
       "       [ 83,  80,  82, ...,  84,  84,  84],\n",
       "       ...,\n",
       "       [255, 255, 255, ..., 254, 254, 255],\n",
       "       [255, 255, 255, ..., 254, 254, 255],\n",
       "       [255, 255, 255, ..., 254, 254, 255]], dtype=uint8)"
      ]
     },
     "execution_count": 120,
     "metadata": {},
     "output_type": "execute_result"
    }
   ],
   "source": [
    "cv2.rectangle(face_image, (eye_1[0], eye_1[1]), (eye_1[0] + eye_1[2], eye_1[1] + eye_1[3]), (0, 0, 255), 2)\n",
    "cv2.rectangle(face_image, (eye_2[0], eye_2[1]), (eye_2[0] + eye_2[2], eye_2[1] + eye_2[3]), (0, 0, 255), 2)\n",
    "# Draw eyes\n",
    "cv2.circle(face_image, tuple([int(eye_1_center_x), int(eye_1_center_y)]), 2, (0, 255, 0), 2)\n",
    "cv2.circle(face_image, tuple([int(eye_2_center_x), int(eye_2_center_y)]), 5, (0, 255, 0), 2)"
   ]
  },
  {
   "cell_type": "code",
   "execution_count": 121,
   "metadata": {},
   "outputs": [
    {
     "data": {
      "text/plain": [
       "<matplotlib.image.AxesImage at 0x2864fd07898>"
      ]
     },
     "execution_count": 121,
     "metadata": {},
     "output_type": "execute_result"
    },
    {
     "data": {
      "image/png": "[encoded data removed]",
      "text/plain": [
       "<Figure size 432x288 with 1 Axes>"
      ]
     },
     "metadata": {
      "needs_background": "light"
     },
     "output_type": "display_data"
    }
   ],
   "source": [
    "plt.imshow(face_image)"
   ]
  },
  {
   "cell_type": "code",
   "execution_count": null,
   "metadata": {},
   "outputs": [],
   "source": []
  },
  {
   "cell_type": "code",
   "execution_count": null,
   "metadata": {},
   "outputs": [],
   "source": []
  }
 ],
 "metadata": {
  "kernelspec": {
   "display_name": "Python [conda env:face_recognition] *",
   "language": "python",
   "name": "conda-env-face_recognition-py"
  },
  "language_info": {
   "codemirror_mode": {
    "name": "ipython",
    "version": 3
   },
   "file_extension": ".py",
   "mimetype": "text/x-python",
   "name": "python",
   "nbconvert_exporter": "python",
   "pygments_lexer": "ipython3",
   "version": "3.6.10"
  }
 },
 "nbformat": 4,
 "nbformat_minor": 4
}
